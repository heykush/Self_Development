{
 "cells": [
  {
   "cell_type": "markdown",
   "metadata": {},
   "source": [
    "## The script does following functionality\n",
    "\n",
    "- Extract List of active hackathons from specified sources.\n",
    "\n",
    "- Sort Hackathons on basis of\n",
    "        - Launch Day\n",
    "        - End Day / Deadline\n",
    "        - Prize\n",
    "\n",
    "- Update List on daily Basis\n",
    "\n",
    "- Create the list in xls format \n",
    "\n",
    "- Generate a Daily Reminder for Latest 5 hackathons\n",
    "\n",
    "\n",
    "### Sources: \n",
    "\n",
    "- HackerEarth\n",
    "\n",
    "- Techgig\n",
    "\n",
    "- Skillenza\n",
    "\n",
    "- ChallengeRocket\n",
    "\n",
    "- BeMyApp\n",
    "\n",
    "- Agorize\n",
    "\n",
    "- Kaggle\n",
    "\n",
    "- Analytics Vidhya\n",
    "\n",
    "- Dockship"
   ]
  },
  {
   "cell_type": "code",
   "execution_count": null,
   "metadata": {},
   "outputs": [],
   "source": []
  }
 ],
 "metadata": {
  "kernelspec": {
   "display_name": "Python 3",
   "language": "python",
   "name": "python3"
  },
  "language_info": {
   "codemirror_mode": {
    "name": "ipython",
    "version": 3
   },
   "file_extension": ".py",
   "mimetype": "text/x-python",
   "name": "python",
   "nbconvert_exporter": "python",
   "pygments_lexer": "ipython3",
   "version": "3.6.9"
  }
 },
 "nbformat": 4,
 "nbformat_minor": 4
}
